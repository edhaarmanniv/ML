{
 "cells": [
  {
   "cell_type": "code",
   "execution_count": 7,
   "metadata": {},
   "outputs": [],
   "source": [
    "import numpy as np\n",
    "import pandas as pd\n",
    "from joblib import dump\n",
    "from sklearn.pipeline import Pipeline\n",
    "from preprocess import prep_data"
   ]
  },
  {
   "cell_type": "code",
   "execution_count": 2,
   "metadata": {},
   "outputs": [
    {
     "data": {
      "text/plain": [
       "array([[26.5, 29. , 34. , ...,  0. ,  0. ,  0. ],\n",
       "       [20. , 22. , 23.5, ...,  0. ,  0. ,  0. ],\n",
       "       [20.5, 22.5, 25.3, ...,  1. ,  0. ,  0. ],\n",
       "       ...,\n",
       "       [19.1, 20.8, 23.1, ...,  1. ,  0. ,  0. ],\n",
       "       [34. , 36.5, 39. , ...,  0. ,  0. ,  0. ],\n",
       "       [26.9, 28.7, 30.1, ...,  0. ,  0. ,  0. ]])"
      ]
     },
     "execution_count": 2,
     "metadata": {},
     "output_type": "execute_result"
    }
   ],
   "source": [
    "df = pd.read_csv(\"fish_participant.csv\")\n",
    "\n",
    "X, y = prep_data(df)\n",
    "\n",
    "X"
   ]
  },
  {
   "cell_type": "code",
   "execution_count": 3,
   "metadata": {},
   "outputs": [
    {
     "name": "stdout",
     "output_type": "stream",
     "text": [
      "0.9793135880542309\n",
      "[ 1.31223426e+02  1.63061501e+02  2.10694465e+01  3.98473145e+02\n",
      "  4.65074814e+02  1.81155546e+02  5.92328996e+02 -6.85262037e+00\n",
      "  4.79384612e+02  3.57534612e+02  4.53894962e+02  2.19633754e+02\n",
      "  3.03442516e+02  5.50984513e+01  3.37672802e+02  4.83699837e+02\n",
      "  5.83520707e-01  5.81906301e+02  1.08101430e+02  7.09741484e+01\n",
      "  2.78979026e+02  9.96913452e+02  1.83491851e+02  9.91495176e+02\n",
      "  7.93274079e+02  1.03655345e+03  8.21591881e+01  1.51072582e+02]\n"
     ]
    }
   ],
   "source": [
    "### YOU WRITE THIS ###\n",
    "from joblib import load\n",
    "from sklearn.linear_model import LassoCV, LassoLarsCV, ElasticNetCV\n",
    "from sklearn.pipeline import make_pipeline\n",
    "from sklearn.preprocessing import Normalizer\n",
    "\n",
    "def predict_from_csv(path_to_csv):\n",
    "    \n",
    "    df = pd.read_csv(path_to_csv)\n",
    "    X, y = prep_data(df)\n",
    "    \n",
    "    clf = LassoCV(n_alphas=10, max_iter=10000, normalize=True)\n",
    "    clf.fit(X, y)\n",
    "\n",
    "    predictions = clf.predict(X)\n",
    "\n",
    "    return predictions\n",
    "\n",
    "\n",
    "predictions = predict_from_csv(\"fish_holdout_demo.csv\")\n",
    "print(predictions)\n",
    "\n",
    "######"
   ]
  },
  {
   "cell_type": "code",
   "execution_count": 4,
   "metadata": {},
   "outputs": [
    {
     "name": "stdout",
     "output_type": "stream",
     "text": [
      "0.9793135880542309\n",
      "1931.5644051124075\n"
     ]
    }
   ],
   "source": [
    "### WE WRITE THIS ###\n",
    "from sklearn.metrics import mean_squared_error\n",
    "ho_predictions = predict_from_csv(\"fish_holdout_demo.csv\")\n",
    "ho_truth = pd.read_csv(\"fish_holdout_demo.csv\")[\"Weight\"].values\n",
    "ho_mse = mean_squared_error(ho_truth, ho_predictions)\n",
    "print(ho_mse)\n",
    "######"
   ]
  },
  {
   "cell_type": "markdown",
   "metadata": {},
   "source": [
    "## Steps after initial exploration:\n",
    "- Redefine preprocessing variables\n",
    "    - include the length parameters\n",
    "    - see which ones are the most important\n",
    "- create pipelines for centering data, see if that does anything"
   ]
  },
  {
   "cell_type": "code",
   "execution_count": 8,
   "metadata": {},
   "outputs": [
    {
     "data": {
      "text/plain": [
       "['Lasso_CV.joblib']"
      ]
     },
     "execution_count": 8,
     "metadata": {},
     "output_type": "execute_result"
    }
   ],
   "source": [
    "df = pd.read_csv(\"fish_participant.csv\")\n",
    "\n",
    "X, y = prep_data(df)\n",
    "\n",
    "lasso_cv = LassoCV(n_alphas=10, max_iter=10000, normalize=True)\n",
    "lasso_cv.fit(X, y)\n",
    "\n",
    "dump(lasso_cv, \"Lasso_CV.joblib\")"
   ]
  },
  {
   "cell_type": "code",
   "execution_count": null,
   "metadata": {},
   "outputs": [],
   "source": []
  }
 ],
 "metadata": {
  "kernelspec": {
   "display_name": "ml-env",
   "language": "python",
   "name": "ml-env"
  },
  "language_info": {
   "codemirror_mode": {
    "name": "ipython",
    "version": 3
   },
   "file_extension": ".py",
   "mimetype": "text/x-python",
   "name": "python",
   "nbconvert_exporter": "python",
   "pygments_lexer": "ipython3",
   "version": "3.7.5"
  }
 },
 "nbformat": 4,
 "nbformat_minor": 4
}
